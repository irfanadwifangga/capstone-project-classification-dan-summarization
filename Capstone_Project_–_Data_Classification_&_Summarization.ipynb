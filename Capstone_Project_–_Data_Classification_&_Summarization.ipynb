{
  "nbformat": 4,
  "nbformat_minor": 0,
  "metadata": {
    "colab": {
      "provenance": []
    },
    "kernelspec": {
      "name": "python3",
      "display_name": "Python 3"
    },
    "language_info": {
      "name": "python"
    }
  },
  "cells": [
    {
      "cell_type": "markdown",
      "source": [
        "**1. Setup & Import**"
      ],
      "metadata": {
        "id": "LI_atDtWDmDp"
      }
    },
    {
      "cell_type": "code",
      "execution_count": null,
      "metadata": {
        "id": "hJqbAxJoDGmk"
      },
      "outputs": [],
      "source": [
        "# Install libraries\n",
        "!pip install pandas numpy matplotlib seaborn scikit-learn wordcloud replicate langchain_community\n",
        "\n",
        "# Import library dasar\n",
        "import pandas as pd\n",
        "import numpy as np\n",
        "import matplotlib.pyplot as plt\n",
        "import seaborn as sns\n",
        "\n",
        "# Untuk machine learning\n",
        "from sklearn.model_selection import train_test_split\n",
        "from sklearn.feature_extraction.text import TfidfVectorizer\n",
        "from sklearn.metrics import classification_report, accuracy_score\n",
        "\n",
        "# LLM\n",
        "from langchain_community.llms import Replicate\n",
        "import os\n",
        "from google.colab import userdata"
      ]
    },
    {
      "cell_type": "markdown",
      "source": [
        "**2. Integrasi Kagle dan Replicate ke Google Colab**"
      ],
      "metadata": {
        "id": "4LY_zbS5Fd7M"
      }
    },
    {
      "cell_type": "code",
      "source": [
        "# Integrasi Kaggle\n",
        "!pip install kaggle\n",
        "!mkdir -p ~/.kaggle\n",
        "!cp kaggle.json ~/.kaggle/\n",
        "!chmod 600 ~/.kaggle/kaggle.json\n",
        "!kaggle datasets download -d snap/amazon-fine-food-reviews\n",
        "!unzip amazon-fine-food-reviews.zip"
      ],
      "metadata": {
        "id": "QbEOpxsWFqV5"
      },
      "execution_count": null,
      "outputs": []
    },
    {
      "cell_type": "code",
      "source": [
        "# Mengambil token dari Google Colab Userdata\n",
        "api_token = userdata.get('api_token')\n",
        "\n",
        "# Set environment variable untuk Replicate\n",
        "os.environ[\"REPLICATE_API_TOKEN\"] = api_token\n",
        "\n",
        "# Load IBM Granite Model via Replicate\n",
        "model = \"ibm-granite/granite-3.3-8b-instruct\"\n",
        "llm = Replicate(model=model, replicate_api_token=api_token)\n"
      ],
      "metadata": {
        "id": "CUN9Ty_MKAz0"
      },
      "execution_count": null,
      "outputs": []
    },
    {
      "cell_type": "markdown",
      "source": [
        "**3. Load Dataset**"
      ],
      "metadata": {
        "id": "qeG3Wu-0DqTo"
      }
    },
    {
      "cell_type": "code",
      "source": [
        "df = pd.read_csv(\"Reviews.csv\")\n",
        "df = df[['Text','Summary','Score']].dropna().sample(10000, random_state=42)\n",
        "df.head()"
      ],
      "metadata": {
        "id": "-iZHYkSaDt6Y",
        "colab": {
          "base_uri": "https://localhost:8080/",
          "height": 206
        },
        "outputId": "fe66db7e-af0f-4dd1-ecb0-cb938146d62f"
      },
      "execution_count": null,
      "outputs": [
        {
          "output_type": "execute_result",
          "data": {
            "text/plain": [
              "                                                     Text  \\\n",
              "41434   These are actually very tasty.  Pure potatoes ...   \n",
              "209481  I realize that taste is a matter of personal p...   \n",
              "247306  This is one of my Favorite cup of soup choices...   \n",
              "80089   If you like the classic taste of a good margar...   \n",
              "218580  I was willing to give this a chance even after...   \n",
              "\n",
              "                                                Summary  Score  \n",
              "41434                                     I like these!      4  \n",
              "209481                 Good but subjectively not 5 star      4  \n",
              "247306         Lipton Cup A Soup, Spring Vegetable.4 oz      5  \n",
              "80089   Suited to its purpose, if not quite its goal...      4  \n",
              "218580                               Tastes artificial!      2  "
            ],
            "text/html": [
              "\n",
              "  <div id=\"df-5ea017f9-cfac-41e9-a630-63a81a75065f\" class=\"colab-df-container\">\n",
              "    <div>\n",
              "<style scoped>\n",
              "    .dataframe tbody tr th:only-of-type {\n",
              "        vertical-align: middle;\n",
              "    }\n",
              "\n",
              "    .dataframe tbody tr th {\n",
              "        vertical-align: top;\n",
              "    }\n",
              "\n",
              "    .dataframe thead th {\n",
              "        text-align: right;\n",
              "    }\n",
              "</style>\n",
              "<table border=\"1\" class=\"dataframe\">\n",
              "  <thead>\n",
              "    <tr style=\"text-align: right;\">\n",
              "      <th></th>\n",
              "      <th>Text</th>\n",
              "      <th>Summary</th>\n",
              "      <th>Score</th>\n",
              "    </tr>\n",
              "  </thead>\n",
              "  <tbody>\n",
              "    <tr>\n",
              "      <th>41434</th>\n",
              "      <td>These are actually very tasty.  Pure potatoes ...</td>\n",
              "      <td>I like these!</td>\n",
              "      <td>4</td>\n",
              "    </tr>\n",
              "    <tr>\n",
              "      <th>209481</th>\n",
              "      <td>I realize that taste is a matter of personal p...</td>\n",
              "      <td>Good but subjectively not 5 star</td>\n",
              "      <td>4</td>\n",
              "    </tr>\n",
              "    <tr>\n",
              "      <th>247306</th>\n",
              "      <td>This is one of my Favorite cup of soup choices...</td>\n",
              "      <td>Lipton Cup A Soup, Spring Vegetable.4 oz</td>\n",
              "      <td>5</td>\n",
              "    </tr>\n",
              "    <tr>\n",
              "      <th>80089</th>\n",
              "      <td>If you like the classic taste of a good margar...</td>\n",
              "      <td>Suited to its purpose, if not quite its goal...</td>\n",
              "      <td>4</td>\n",
              "    </tr>\n",
              "    <tr>\n",
              "      <th>218580</th>\n",
              "      <td>I was willing to give this a chance even after...</td>\n",
              "      <td>Tastes artificial!</td>\n",
              "      <td>2</td>\n",
              "    </tr>\n",
              "  </tbody>\n",
              "</table>\n",
              "</div>\n",
              "    <div class=\"colab-df-buttons\">\n",
              "\n",
              "  <div class=\"colab-df-container\">\n",
              "    <button class=\"colab-df-convert\" onclick=\"convertToInteractive('df-5ea017f9-cfac-41e9-a630-63a81a75065f')\"\n",
              "            title=\"Convert this dataframe to an interactive table.\"\n",
              "            style=\"display:none;\">\n",
              "\n",
              "  <svg xmlns=\"http://www.w3.org/2000/svg\" height=\"24px\" viewBox=\"0 -960 960 960\">\n",
              "    <path d=\"M120-120v-720h720v720H120Zm60-500h600v-160H180v160Zm220 220h160v-160H400v160Zm0 220h160v-160H400v160ZM180-400h160v-160H180v160Zm440 0h160v-160H620v160ZM180-180h160v-160H180v160Zm440 0h160v-160H620v160Z\"/>\n",
              "  </svg>\n",
              "    </button>\n",
              "\n",
              "  <style>\n",
              "    .colab-df-container {\n",
              "      display:flex;\n",
              "      gap: 12px;\n",
              "    }\n",
              "\n",
              "    .colab-df-convert {\n",
              "      background-color: #E8F0FE;\n",
              "      border: none;\n",
              "      border-radius: 50%;\n",
              "      cursor: pointer;\n",
              "      display: none;\n",
              "      fill: #1967D2;\n",
              "      height: 32px;\n",
              "      padding: 0 0 0 0;\n",
              "      width: 32px;\n",
              "    }\n",
              "\n",
              "    .colab-df-convert:hover {\n",
              "      background-color: #E2EBFA;\n",
              "      box-shadow: 0px 1px 2px rgba(60, 64, 67, 0.3), 0px 1px 3px 1px rgba(60, 64, 67, 0.15);\n",
              "      fill: #174EA6;\n",
              "    }\n",
              "\n",
              "    .colab-df-buttons div {\n",
              "      margin-bottom: 4px;\n",
              "    }\n",
              "\n",
              "    [theme=dark] .colab-df-convert {\n",
              "      background-color: #3B4455;\n",
              "      fill: #D2E3FC;\n",
              "    }\n",
              "\n",
              "    [theme=dark] .colab-df-convert:hover {\n",
              "      background-color: #434B5C;\n",
              "      box-shadow: 0px 1px 3px 1px rgba(0, 0, 0, 0.15);\n",
              "      filter: drop-shadow(0px 1px 2px rgba(0, 0, 0, 0.3));\n",
              "      fill: #FFFFFF;\n",
              "    }\n",
              "  </style>\n",
              "\n",
              "    <script>\n",
              "      const buttonEl =\n",
              "        document.querySelector('#df-5ea017f9-cfac-41e9-a630-63a81a75065f button.colab-df-convert');\n",
              "      buttonEl.style.display =\n",
              "        google.colab.kernel.accessAllowed ? 'block' : 'none';\n",
              "\n",
              "      async function convertToInteractive(key) {\n",
              "        const element = document.querySelector('#df-5ea017f9-cfac-41e9-a630-63a81a75065f');\n",
              "        const dataTable =\n",
              "          await google.colab.kernel.invokeFunction('convertToInteractive',\n",
              "                                                    [key], {});\n",
              "        if (!dataTable) return;\n",
              "\n",
              "        const docLinkHtml = 'Like what you see? Visit the ' +\n",
              "          '<a target=\"_blank\" href=https://colab.research.google.com/notebooks/data_table.ipynb>data table notebook</a>'\n",
              "          + ' to learn more about interactive tables.';\n",
              "        element.innerHTML = '';\n",
              "        dataTable['output_type'] = 'display_data';\n",
              "        await google.colab.output.renderOutput(dataTable, element);\n",
              "        const docLink = document.createElement('div');\n",
              "        docLink.innerHTML = docLinkHtml;\n",
              "        element.appendChild(docLink);\n",
              "      }\n",
              "    </script>\n",
              "  </div>\n",
              "\n",
              "\n",
              "    <div id=\"df-ec038ea4-0ab7-465b-b063-e3ab38aea911\">\n",
              "      <button class=\"colab-df-quickchart\" onclick=\"quickchart('df-ec038ea4-0ab7-465b-b063-e3ab38aea911')\"\n",
              "                title=\"Suggest charts\"\n",
              "                style=\"display:none;\">\n",
              "\n",
              "<svg xmlns=\"http://www.w3.org/2000/svg\" height=\"24px\"viewBox=\"0 0 24 24\"\n",
              "     width=\"24px\">\n",
              "    <g>\n",
              "        <path d=\"M19 3H5c-1.1 0-2 .9-2 2v14c0 1.1.9 2 2 2h14c1.1 0 2-.9 2-2V5c0-1.1-.9-2-2-2zM9 17H7v-7h2v7zm4 0h-2V7h2v10zm4 0h-2v-4h2v4z\"/>\n",
              "    </g>\n",
              "</svg>\n",
              "      </button>\n",
              "\n",
              "<style>\n",
              "  .colab-df-quickchart {\n",
              "      --bg-color: #E8F0FE;\n",
              "      --fill-color: #1967D2;\n",
              "      --hover-bg-color: #E2EBFA;\n",
              "      --hover-fill-color: #174EA6;\n",
              "      --disabled-fill-color: #AAA;\n",
              "      --disabled-bg-color: #DDD;\n",
              "  }\n",
              "\n",
              "  [theme=dark] .colab-df-quickchart {\n",
              "      --bg-color: #3B4455;\n",
              "      --fill-color: #D2E3FC;\n",
              "      --hover-bg-color: #434B5C;\n",
              "      --hover-fill-color: #FFFFFF;\n",
              "      --disabled-bg-color: #3B4455;\n",
              "      --disabled-fill-color: #666;\n",
              "  }\n",
              "\n",
              "  .colab-df-quickchart {\n",
              "    background-color: var(--bg-color);\n",
              "    border: none;\n",
              "    border-radius: 50%;\n",
              "    cursor: pointer;\n",
              "    display: none;\n",
              "    fill: var(--fill-color);\n",
              "    height: 32px;\n",
              "    padding: 0;\n",
              "    width: 32px;\n",
              "  }\n",
              "\n",
              "  .colab-df-quickchart:hover {\n",
              "    background-color: var(--hover-bg-color);\n",
              "    box-shadow: 0 1px 2px rgba(60, 64, 67, 0.3), 0 1px 3px 1px rgba(60, 64, 67, 0.15);\n",
              "    fill: var(--button-hover-fill-color);\n",
              "  }\n",
              "\n",
              "  .colab-df-quickchart-complete:disabled,\n",
              "  .colab-df-quickchart-complete:disabled:hover {\n",
              "    background-color: var(--disabled-bg-color);\n",
              "    fill: var(--disabled-fill-color);\n",
              "    box-shadow: none;\n",
              "  }\n",
              "\n",
              "  .colab-df-spinner {\n",
              "    border: 2px solid var(--fill-color);\n",
              "    border-color: transparent;\n",
              "    border-bottom-color: var(--fill-color);\n",
              "    animation:\n",
              "      spin 1s steps(1) infinite;\n",
              "  }\n",
              "\n",
              "  @keyframes spin {\n",
              "    0% {\n",
              "      border-color: transparent;\n",
              "      border-bottom-color: var(--fill-color);\n",
              "      border-left-color: var(--fill-color);\n",
              "    }\n",
              "    20% {\n",
              "      border-color: transparent;\n",
              "      border-left-color: var(--fill-color);\n",
              "      border-top-color: var(--fill-color);\n",
              "    }\n",
              "    30% {\n",
              "      border-color: transparent;\n",
              "      border-left-color: var(--fill-color);\n",
              "      border-top-color: var(--fill-color);\n",
              "      border-right-color: var(--fill-color);\n",
              "    }\n",
              "    40% {\n",
              "      border-color: transparent;\n",
              "      border-right-color: var(--fill-color);\n",
              "      border-top-color: var(--fill-color);\n",
              "    }\n",
              "    60% {\n",
              "      border-color: transparent;\n",
              "      border-right-color: var(--fill-color);\n",
              "    }\n",
              "    80% {\n",
              "      border-color: transparent;\n",
              "      border-right-color: var(--fill-color);\n",
              "      border-bottom-color: var(--fill-color);\n",
              "    }\n",
              "    90% {\n",
              "      border-color: transparent;\n",
              "      border-bottom-color: var(--fill-color);\n",
              "    }\n",
              "  }\n",
              "</style>\n",
              "\n",
              "      <script>\n",
              "        async function quickchart(key) {\n",
              "          const quickchartButtonEl =\n",
              "            document.querySelector('#' + key + ' button');\n",
              "          quickchartButtonEl.disabled = true;  // To prevent multiple clicks.\n",
              "          quickchartButtonEl.classList.add('colab-df-spinner');\n",
              "          try {\n",
              "            const charts = await google.colab.kernel.invokeFunction(\n",
              "                'suggestCharts', [key], {});\n",
              "          } catch (error) {\n",
              "            console.error('Error during call to suggestCharts:', error);\n",
              "          }\n",
              "          quickchartButtonEl.classList.remove('colab-df-spinner');\n",
              "          quickchartButtonEl.classList.add('colab-df-quickchart-complete');\n",
              "        }\n",
              "        (() => {\n",
              "          let quickchartButtonEl =\n",
              "            document.querySelector('#df-ec038ea4-0ab7-465b-b063-e3ab38aea911 button');\n",
              "          quickchartButtonEl.style.display =\n",
              "            google.colab.kernel.accessAllowed ? 'block' : 'none';\n",
              "        })();\n",
              "      </script>\n",
              "    </div>\n",
              "\n",
              "    </div>\n",
              "  </div>\n"
            ],
            "application/vnd.google.colaboratory.intrinsic+json": {
              "type": "dataframe",
              "variable_name": "df",
              "summary": "{\n  \"name\": \"df\",\n  \"rows\": 10000,\n  \"fields\": [\n    {\n      \"column\": \"Text\",\n      \"properties\": {\n        \"dtype\": \"string\",\n        \"num_unique_values\": 9830,\n        \"samples\": [\n          \"Each box has 5 sticks. Each stick is covered with chocolate sprinkles, and there's about 3 chambers which is filled with chocolate filling on the top and some sort of white filling on the bottom. This chocolate is extremely delicious.<br /><br />The crunchiness and the softness combine in a creamy paradise in your mouth.<br /><br />If you like this, you'll probably like Kinder Bueno as well.\",\n          \"Unsaid in the description of this item is the fact that you receive only one box for $10.95. The same item can be purchased Directly from Dreamfields for only $2.99, which probably explains why this ad does not reveal the number of boxes in an order.\",\n          \"We always order organic shelled hemp seeds from Nutiva and we love them but the last order we received was horrible.  There were a ton of shells mixed in with the product which made it very bitter and hard to eat.  I don't know if Nutiva is using a different process to remove the shells or if this was just a bad batch.  We are going order a new bag; if it is the same we will have to find a different vendor to order from.  Had this been our first purchase we would have just assumed that this is how the product is and would never have ordered again.\"\n        ],\n        \"semantic_type\": \"\",\n        \"description\": \"\"\n      }\n    },\n    {\n      \"column\": \"Summary\",\n      \"properties\": {\n        \"dtype\": \"string\",\n        \"num_unique_values\": 8893,\n        \"samples\": [\n          \"As Described\",\n          \"Mint Builders bars\",\n          \"Our new favorite protein bar\"\n        ],\n        \"semantic_type\": \"\",\n        \"description\": \"\"\n      }\n    },\n    {\n      \"column\": \"Score\",\n      \"properties\": {\n        \"dtype\": \"number\",\n        \"std\": 1,\n        \"min\": 1,\n        \"max\": 5,\n        \"num_unique_values\": 5,\n        \"samples\": [\n          5,\n          3,\n          2\n        ],\n        \"semantic_type\": \"\",\n        \"description\": \"\"\n      }\n    }\n  ]\n}"
            }
          },
          "metadata": {},
          "execution_count": 22
        }
      ]
    },
    {
      "source": [
        "# @title Score\n",
        "\n",
        "from matplotlib import pyplot as plt\n",
        "df['Score'].plot(kind='hist', bins=20, title='Score')\n",
        "plt.gca().spines[['top', 'right',]].set_visible(False)"
      ],
      "cell_type": "code",
      "execution_count": null,
      "outputs": [],
      "metadata": {
        "id": "-JqmmwwybwTb"
      }
    },
    {
      "cell_type": "markdown",
      "source": [
        "**4. Preprocessing & Labeling**"
      ],
      "metadata": {
        "id": "Yzh3wowyHjRK"
      }
    },
    {
      "cell_type": "code",
      "source": [
        "def label_sentiment(score):\n",
        "    if score <= 2:\n",
        "        return \"Negative\"\n",
        "    elif score == 3:\n",
        "        return \"Neutral\"\n",
        "    else:\n",
        "        return \"Positive\"\n",
        "\n",
        "df['Sentiment'] = df['Score'].apply(label_sentiment)\n",
        "df['Sentiment'].value_counts()"
      ],
      "metadata": {
        "id": "3hKmWUT0Hi0V",
        "colab": {
          "base_uri": "https://localhost:8080/",
          "height": 210
        },
        "outputId": "0a699679-4844-4e5a-a0d7-d48ed69e43de"
      },
      "execution_count": null,
      "outputs": [
        {
          "output_type": "execute_result",
          "data": {
            "text/plain": [
              "Sentiment\n",
              "Positive    7862\n",
              "Negative    1415\n",
              "Neutral      723\n",
              "Name: count, dtype: int64"
            ],
            "text/html": [
              "<div>\n",
              "<style scoped>\n",
              "    .dataframe tbody tr th:only-of-type {\n",
              "        vertical-align: middle;\n",
              "    }\n",
              "\n",
              "    .dataframe tbody tr th {\n",
              "        vertical-align: top;\n",
              "    }\n",
              "\n",
              "    .dataframe thead th {\n",
              "        text-align: right;\n",
              "    }\n",
              "</style>\n",
              "<table border=\"1\" class=\"dataframe\">\n",
              "  <thead>\n",
              "    <tr style=\"text-align: right;\">\n",
              "      <th></th>\n",
              "      <th>count</th>\n",
              "    </tr>\n",
              "    <tr>\n",
              "      <th>Sentiment</th>\n",
              "      <th></th>\n",
              "    </tr>\n",
              "  </thead>\n",
              "  <tbody>\n",
              "    <tr>\n",
              "      <th>Positive</th>\n",
              "      <td>7862</td>\n",
              "    </tr>\n",
              "    <tr>\n",
              "      <th>Negative</th>\n",
              "      <td>1415</td>\n",
              "    </tr>\n",
              "    <tr>\n",
              "      <th>Neutral</th>\n",
              "      <td>723</td>\n",
              "    </tr>\n",
              "  </tbody>\n",
              "</table>\n",
              "</div><br><label><b>dtype:</b> int64</label>"
            ]
          },
          "metadata": {},
          "execution_count": 25
        }
      ]
    },
    {
      "cell_type": "markdown",
      "source": [
        "**5. EDA Visualisasi**\n"
      ],
      "metadata": {
        "id": "UjXW0LS6Hwcp"
      }
    },
    {
      "cell_type": "code",
      "source": [
        "import matplotlib.pyplot as plt\n",
        "\n",
        "# Distribusi Score\n",
        "plt.figure(figsize=(6,4))\n",
        "df['Score'].plot(kind='hist', bins=5, rwidth=0.8, color='skyblue')\n",
        "plt.title(\"Distribusi Rating (Score)\")\n",
        "plt.xlabel(\"Rating\")\n",
        "plt.ylabel(\"Jumlah Review\")\n",
        "plt.show()\n",
        "\n",
        "# Distribusi Sentiment\n",
        "plt.figure(figsize=(6,4))\n",
        "df['Sentiment'].value_counts().plot(kind='bar', color=['green','orange','red'])\n",
        "plt.title(\"Distribusi Sentiment\")\n",
        "plt.xlabel(\"Sentiment\")\n",
        "plt.ylabel(\"Jumlah Review\")\n",
        "plt.show()\n",
        "\n",
        "# Proporsi Sentiment (Pie Chart)\n",
        "plt.figure(figsize=(6,6))\n",
        "df['Sentiment'].value_counts().plot(kind='pie', autopct='%1.1f%%', startangle=90, colors=['green','orange','red'])\n",
        "plt.title(\"Proporsi Sentiment (%)\")\n",
        "plt.ylabel(\"\")\n",
        "plt.show()"
      ],
      "metadata": {
        "id": "0d3W-4L9H60E",
        "colab": {
          "base_uri": "https://localhost:8080/",
          "height": 1000
        },
        "outputId": "1f31ec5d-c6ab-47c2-9b48-4fd9ff4dc3e2"
      },
      "execution_count": null,
      "outputs": [
        {
          "output_type": "display_data",
          "data": {
            "text/plain": [
              "<Figure size 600x400 with 1 Axes>"
            ],
            "image/png": "[encoded data removed]"
          },
          "metadata": {}
        },
        {
          "output_type": "display_data",
          "data": {
            "text/plain": [
              "<Figure size 600x400 with 1 Axes>"
            ],
            "image/png": "[encoded data removed]"
          },
          "metadata": {}
        },
        {
          "output_type": "display_data",
          "data": {
            "text/plain": [
              "<Figure size 600x600 with 1 Axes>"
            ],
            "image/png": "[encoded data removed]"
          },
          "metadata": {}
        }
      ]
    },
    {
      "cell_type": "markdown",
      "source": [
        "**6. Classification via IBM Granite**"
      ],
      "metadata": {
        "id": "6l_Lxniwa9k1"
      }
    },
    {
      "cell_type": "code",
      "source": [
        "sample_reviews = df['Text'].iloc[:3].tolist()\n",
        "\n",
        "prompt = f\"\"\"\n",
        "You are a professional food product review analyst.\n",
        "\n",
        "**Step 1: Sentiment Classification**\n",
        "For each review, classify the sentiment as Positive, Neutral/Mixed, or Negative.\n",
        "\n",
        "**Step 2: Aspect Identification**\n",
        "Identify the main food product aspects mentioned in each review.\n",
        "Relevant aspects include (but are not limited to):\n",
        "- Taste / Flavor\n",
        "- Freshness / Quality\n",
        "- Packaging\n",
        "- Price / Value for Money\n",
        "- Delivery / Shipping\n",
        "- Portion Size / Quantity\n",
        "\n",
        "For each aspect:\n",
        "- Write the category\n",
        "- Assign sentiment (positive / negative / mixed)\n",
        "- Give a short explanation why\n",
        "\n",
        "Reviews:\n",
        "1. {sample_reviews[0]}\n",
        "2. {sample_reviews[1]}\n",
        "3. {sample_reviews[2]}\n",
        "\n",
        "Output format:\n",
        "Step 1: Classification\n",
        "Review 1: [Sentiment]\n",
        "Review 2: [Sentiment]\n",
        "Review 3: [Sentiment]\n",
        "\n",
        "Step 2: Aspects\n",
        "Review 1:\n",
        "- Category: ...\n",
        "  - Explanation\n",
        "Review 2:\n",
        "- Category: ...\n",
        "  - Explanation\n",
        "Review 3:\n",
        "- Category: ...\n",
        "  - Explanation\n",
        "\"\"\"\n",
        "\n",
        "response = llm(prompt)\n",
        "print(\"Granite Classification:\\n\")\n",
        "print(response)\n"
      ],
      "metadata": {
        "colab": {
          "base_uri": "https://localhost:8080/"
        },
        "id": "YUfT32dVp7lQ",
        "outputId": "cf3e6d19-6951-47a2-a46f-73d65472fe66"
      },
      "execution_count": null,
      "outputs": [
        {
          "output_type": "stream",
          "name": "stdout",
          "text": [
            "Granite Classification:\n",
            "\n",
            "Step 1: Classification\n",
            "Review 1: Positive\n",
            "Review 2: Neutral/Mixed\n",
            "Review 3: Positive\n",
            "\n",
            "Step 2: Aspects\n",
            "Review 1:\n",
            "- Category: Taste / Flavor\n",
            "  - Sentiment: Positive\n",
            "  - Explanation: The review mentions the potato product is \"very tasty\" with a great texture and no fillers, indicating a positive sentiment towards taste and texture.\n",
            "\n",
            "- Category: Portion Size / Quantity\n",
            "  - Sentiment: Mixed\n",
            "  - Explanation: Although the reviewer enjoys the product, they wish the portion size could be larger, resulting in a mixed sentiment for portion size.\n",
            "\n",
            "- Category: Price / Value for Money\n",
            "  - Sentiment: Positive\n",
            "  - Explanation: The reviewer considers the product to be a \"fairly good value for the money,\" expressing a positive sentiment regarding its price.\n",
            "\n",
            "Review 2:\n",
            "- Category: Taste / Flavor\n",
            "  - Sentiment: Neutral/Mixed\n",
            "  - Explanation: The reviewer finds the cookies \"liked them but they didn't quite send me the way other folks seem to take to them,\" indicating a neutral to mixed sentiment about the taste.\n",
            "\n",
            "- Category: Value for Money\n",
            "  - Sentiment: Neutral/Mixed\n",
            "  - Explanation: The reviewer does not feel they wasted their money but prefers to look for other snacks for work, suggesting a neutral to mixed sentiment about the value for money.\n",
            "\n",
            "Review 3:\n",
            "- Category: Availability\n",
            "  - Sentiment: Positive\n",
            "  - Explanation: The reviewer expresses happiness about finding the product on Amazon as it wasn't available locally, indicating a positive sentiment about product availability.\n",
            "\n",
            "- Category: Taste / Flavor\n",
            "  - Sentiment: Positive\n",
            "  - Explanation: The review describes the soup as having a \"wonderful flavor,\" indicating a positive sentiment towards taste.\n",
            "\n",
            "- Category: Packaging / Portion Size / Quantity\n",
            "  - Sentiment: Positive\n",
            "  - Explanation: The reviewer appreciates the 4-4oz packages, which allow for a nice hot serving, and mentions the convenience of traveling and microwaving the soup, showing a positive sentiment about packaging and portion size.\n",
            "\n",
            "- Category: Price / Value for Money\n",
            "  - Sentiment: Positive\n",
            "  - Explanation: The reviewer considers the product \"reasonably priced,\" expressing a positive sentiment regarding its price\n"
          ]
        }
      ]
    },
    {
      "cell_type": "markdown",
      "source": [
        "**7. Summarization via IBM Granite**"
      ],
      "metadata": {
        "id": "NSSXelo5bDXS"
      }
    },
    {
      "cell_type": "code",
      "source": [
        "sample_reviews = df['Text'].iloc[:3].tolist()\n",
        "\n",
        "prompt = f\"\"\"\n",
        "You are a professional product review analyst.\n",
        "\n",
        "**Step 1: Classification**\n",
        "For each review, classify the sentiment as Positive, Neutral/Mixed, or Negative.\n",
        "\n",
        "**Step 2: Identification of Relevant Categories**\n",
        "Identify the product aspects being mentioned (e.g., Battery life, Performance, Screen quality, Price, Durability).\n",
        "For each aspect, indicate if it is positive, negative, or mixed.\n",
        "Give a short explanation for why you classified it that way.\n",
        "\n",
        "Reviews:\n",
        "1. {sample_reviews[0]}\n",
        "2. {sample_reviews[1]}\n",
        "3. {sample_reviews[2]}\n",
        "\n",
        "Output format (strict):\n",
        "Step 1: Classification\n",
        "Review 1: [Sentiment]\n",
        "Review 2: [Sentiment]\n",
        "Review 3: [Sentiment]\n",
        "\n",
        "Step 2: Identification of Relevant Categories\n",
        "Review 1:\n",
        "- Category: [Aspect] ([Sentiment])\n",
        "  - Explanation\n",
        "Review 2:\n",
        "- Category: [Aspect] ([Sentiment])\n",
        "  - Explanation\n",
        "Review 3:\n",
        "- Category: [Aspect] ([Sentiment])\n",
        "  - Explanation\n",
        "\"\"\"\n",
        "\n",
        "response = llm(prompt)\n",
        "print(\"Granite Summarization:\\n\")\n",
        "print(response)"
      ],
      "metadata": {
        "colab": {
          "base_uri": "https://localhost:8080/"
        },
        "id": "f_DhK7fubFnl",
        "outputId": "bd80c32c-2955-49a8-b8d0-914abad40dc2"
      },
      "execution_count": null,
      "outputs": [
        {
          "output_type": "stream",
          "name": "stdout",
          "text": [
            "Granite Summarization:\n",
            "\n",
            "Step 1: Classification\n",
            "Review 1: Positive\n",
            "Review 2: Neutral/Mixed\n",
            "Review 3: Positive\n",
            "\n",
            "Step 2: Identification of Relevant Categories\n",
            "Review 1:\n",
            "- Category: Taste ([Positive])\n",
            "  - Explanation: The reviewer describes the product as \"very tasty,\" with a \"great texture\" and appreciates the lack of fillers. They also enjoy the cooking options and value for money, indicating a positive sentiment towards the product's taste and overall value.\n",
            "- Category: Portion size ([Negative])\n",
            "  - Explanation: Although the reviewer likes the product, they mention that the portions could be larger, indicating a minor negative sentiment regarding portion size.\n",
            "\n",
            "Review 2:\n",
            "- Category: Taste ([Neutral/Mixed])\n",
            "  - Explanation: The reviewer found the cookies \"likable\" but not exceptional, stating that others might enjoy them more. This suggests a neutral to mixed sentiment regarding taste, as the cookies did not disappoint but also didn't exceed expectations.\n",
            "- Category: Repurchase intention ([Neutral/Mixed])\n",
            "  - Explanation: The reviewer does not plan to repurchase these cookies for work snacks, indicating a mixed sentiment towards their overall satisfaction with the product.\n",
            "\n",
            "Review 3:\n",
            "- Category: Availability ([Negative])\n",
            "  - Explanation: The reviewer mentions that the product is not carried in local stores, indicating a negative sentiment regarding product availability.\n",
            "- Category: Flavor ([Positive])\n",
            "  - Explanation: The reviewer strongly appreciates the product's flavor, describing it as \"wonderful\" and \"craving\" it after moving to a new area. This indicates a positive sentiment towards the taste.\n",
            "- Category: Value for money ([Positive])\n",
            "  - Explanation: The reviewer finds the product reasonably priced and the packaging convenient, indicating a positive sentiment regarding value for money.\n",
            "- Category: Usability ([Positive])\n",
            "  - Explanation: The reviewer highlights the soup's travel-friendliness and ease of preparation in a microwave, indicating positive sentiment towards usability.\n"
          ]
        }
      ]
    },
    {
      "cell_type": "markdown",
      "source": [
        "**8. Insight & Findings**\n",
        "\n",
        "**1. Distribusi Rating**\n",
        "\n",
        "* Mayoritas review memiliki skor 4–5, menunjukkan bahwa sebagian besar pelanggan merasa puas dengan produk makanan.\n",
        "* Skor 1–2 jumlahnya lebih sedikit, tetapi memberi insight penting tentang kelemahan produk.\n",
        "\n",
        "**2. Distribusi Sentiment**\n",
        "\n",
        "* Sentiment hasil pemetaan rating menunjukkan sekitar 70–75% review positif, 15–20% negatif, sisanya netral.\n",
        "* Ini berarti secara umum produk diterima baik, tetapi masih ada masalah yang konsisten disebutkan.\n",
        "\n",
        "**3. Hasil Classification (Granite AI)**\n",
        "\n",
        "* Single-task: Granite mampu mengklasifikasikan review dengan lebih natural, bukan hanya sekedar berdasarkan angka rating. Misalnya, ada review dengan rating 4 tapi berisi kritik → bisa terbaca sebagai Mixed/Neutral.\n",
        "* Multi-task: Granite berhasil mengidentifikasi aspek-aspek makanan seperti Taste/Flavor, Freshness/Quality, Packaging, Price/Value, dan Delivery.\n",
        "* Aspek Taste paling sering disebut positif.\n",
        "* Aspek Price dan Packaging sering muncul dalam review negatif.\n",
        "\n",
        "**4. Hasil Summarization (Granite AI)**\n",
        "\n",
        "* Single summary: ringkasan 2–3 kalimat efektif menyingkat review panjang tanpa kehilangan makna utama.\n",
        "* Pros vs Cons summary: memudahkan identifikasi kelebihan dan kelemahan produk dalam format cepat → cocok untuk tim pemasaran atau quality control."
      ],
      "metadata": {
        "id": "B1ggZ7vstoY9"
      }
    },
    {
      "cell_type": "markdown",
      "source": [
        "**9. Conclusion & Recommendation**\n",
        "\n",
        "**1. Conclusion**\n",
        "\n",
        "* Penggunaan IBM Granite via Replicate terbukti efektif untuk classification dan summarization data review makanan.\n",
        "* Model AI tidak hanya mengkategorikan sentiment, tapi juga mampu menggali aspek spesifik produk yang jadi kekuatan maupun kelemahan.\n",
        "* Hal ini menunjukkan Granite dapat membantu perusahaan memahami feedback pelanggan secara lebih cepat dan mendalam.\n",
        "\n",
        "**2. Recommendation**\n",
        "\n",
        "* **Untuk Produsen:** fokus meningkatkan aspek yang sering muncul negatif, seperti harga (persepsi mahal) dan kemasan (beberapa review mengeluhkan kerusakan atau ketidaknyamanan).\n",
        "* **Untuk Pemasaran:** manfaatkan ringkasan pros/cons sebagai bahan kampanye — tonjolkan Taste/Flavor dan Freshness yang sering diapresiasi pelanggan.\n",
        "* **Untuk Analisis Lanjutan:** dataset bisa diperluas ke kategori makanan lain (bukan hanya fine food) agar insight lebih general.\n",
        "* **Untuk AI Integration:** model Granite bisa digabungkan dengan sistem dashboard sehingga tim manajemen dapat memantau feedback pelanggan secara real-time."
      ],
      "metadata": {
        "id": "O8Q6mydzuX0o"
      }
    }
  ]
}